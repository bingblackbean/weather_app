{
 "cells": [
  {
   "cell_type": "markdown",
   "id": "16706c4a",
   "metadata": {},
   "source": [
    "# Save Data to SQLite\n",
    "\n",
    "## Prepare Data\n",
    "Since we have tested request api and sorted the codes in previous chapter. In this exercise, we want to re-use the functions, the good practice is to put functions into py file and import them here.\n",
    "\n",
    "***Note: In Pycharm, software helps to add content root path into syspath, if we are using notebook, we have to add content root path into syspath manuallly.***"
   ]
  },
  {
   "cell_type": "code",
   "execution_count": 1,
   "id": "5a28f37f",
   "metadata": {},
   "outputs": [
    {
     "name": "stdout",
     "output_type": "stream",
     "text": [
      "C:\\Users\\renb\\PycharmProjects\\weather_dashapp\\weather_book\n"
     ]
    }
   ],
   "source": [
    "import os\n",
    "import sys\n",
    "\n",
    "module_path = os.path.abspath(os.path.join('..'))\n",
    "print(module_path)\n",
    "if module_path not in sys.path:\n",
    "    sys.path.append(module_path)"
   ]
  },
  {
   "cell_type": "code",
   "execution_count": 2,
   "id": "0428fda7",
   "metadata": {},
   "outputs": [],
   "source": [
    "from weather_app.models.query_api import get_geo_from_city,generate_url,request_weather_info,transform_weather_raw,add_city_info\n"
   ]
  },
  {
   "cell_type": "code",
   "execution_count": 3,
   "id": "ecc46534",
   "metadata": {},
   "outputs": [
    {
     "data": {
      "text/html": [
       "<div>\n",
       "<style scoped>\n",
       "    .dataframe tbody tr th:only-of-type {\n",
       "        vertical-align: middle;\n",
       "    }\n",
       "\n",
       "    .dataframe tbody tr th {\n",
       "        vertical-align: top;\n",
       "    }\n",
       "\n",
       "    .dataframe thead th {\n",
       "        text-align: right;\n",
       "    }\n",
       "</style>\n",
       "<table border=\"1\" class=\"dataframe\">\n",
       "  <thead>\n",
       "    <tr style=\"text-align: right;\">\n",
       "      <th></th>\n",
       "      <th>cloudcover</th>\n",
       "      <th>lifted_index</th>\n",
       "      <th>prec_type</th>\n",
       "      <th>prec_amount</th>\n",
       "      <th>temp2m</th>\n",
       "      <th>rh2m</th>\n",
       "      <th>weather</th>\n",
       "      <th>timestamp</th>\n",
       "      <th>wind_direction</th>\n",
       "      <th>wind_speed</th>\n",
       "      <th>longitude</th>\n",
       "      <th>latitude</th>\n",
       "      <th>city</th>\n",
       "    </tr>\n",
       "  </thead>\n",
       "  <tbody>\n",
       "    <tr>\n",
       "      <th>0</th>\n",
       "      <td>9</td>\n",
       "      <td>15</td>\n",
       "      <td>none</td>\n",
       "      <td>1</td>\n",
       "      <td>4</td>\n",
       "      <td>90</td>\n",
       "      <td>cloudynight</td>\n",
       "      <td>2022-02-02 21:00:00</td>\n",
       "      <td>NE</td>\n",
       "      <td>3</td>\n",
       "      <td>121.469207</td>\n",
       "      <td>31.232276</td>\n",
       "      <td>shanghai</td>\n",
       "    </tr>\n",
       "    <tr>\n",
       "      <th>1</th>\n",
       "      <td>9</td>\n",
       "      <td>15</td>\n",
       "      <td>rain</td>\n",
       "      <td>1</td>\n",
       "      <td>4</td>\n",
       "      <td>65</td>\n",
       "      <td>lightrainday</td>\n",
       "      <td>2022-02-03 00:00:00</td>\n",
       "      <td>NE</td>\n",
       "      <td>3</td>\n",
       "      <td>121.469207</td>\n",
       "      <td>31.232276</td>\n",
       "      <td>shanghai</td>\n",
       "    </tr>\n",
       "    <tr>\n",
       "      <th>2</th>\n",
       "      <td>9</td>\n",
       "      <td>15</td>\n",
       "      <td>none</td>\n",
       "      <td>1</td>\n",
       "      <td>5</td>\n",
       "      <td>53</td>\n",
       "      <td>cloudyday</td>\n",
       "      <td>2022-02-03 03:00:00</td>\n",
       "      <td>NE</td>\n",
       "      <td>3</td>\n",
       "      <td>121.469207</td>\n",
       "      <td>31.232276</td>\n",
       "      <td>shanghai</td>\n",
       "    </tr>\n",
       "    <tr>\n",
       "      <th>3</th>\n",
       "      <td>9</td>\n",
       "      <td>15</td>\n",
       "      <td>none</td>\n",
       "      <td>1</td>\n",
       "      <td>5</td>\n",
       "      <td>51</td>\n",
       "      <td>cloudyday</td>\n",
       "      <td>2022-02-03 06:00:00</td>\n",
       "      <td>NE</td>\n",
       "      <td>3</td>\n",
       "      <td>121.469207</td>\n",
       "      <td>31.232276</td>\n",
       "      <td>shanghai</td>\n",
       "    </tr>\n",
       "    <tr>\n",
       "      <th>4</th>\n",
       "      <td>9</td>\n",
       "      <td>15</td>\n",
       "      <td>rain</td>\n",
       "      <td>1</td>\n",
       "      <td>5</td>\n",
       "      <td>62</td>\n",
       "      <td>lightrainday</td>\n",
       "      <td>2022-02-03 09:00:00</td>\n",
       "      <td>NE</td>\n",
       "      <td>3</td>\n",
       "      <td>121.469207</td>\n",
       "      <td>31.232276</td>\n",
       "      <td>shanghai</td>\n",
       "    </tr>\n",
       "    <tr>\n",
       "      <th>...</th>\n",
       "      <td>...</td>\n",
       "      <td>...</td>\n",
       "      <td>...</td>\n",
       "      <td>...</td>\n",
       "      <td>...</td>\n",
       "      <td>...</td>\n",
       "      <td>...</td>\n",
       "      <td>...</td>\n",
       "      <td>...</td>\n",
       "      <td>...</td>\n",
       "      <td>...</td>\n",
       "      <td>...</td>\n",
       "      <td>...</td>\n",
       "    </tr>\n",
       "    <tr>\n",
       "      <th>59</th>\n",
       "      <td>7</td>\n",
       "      <td>15</td>\n",
       "      <td>rain</td>\n",
       "      <td>4</td>\n",
       "      <td>5</td>\n",
       "      <td>47</td>\n",
       "      <td>rainday</td>\n",
       "      <td>2022-02-10 06:00:00</td>\n",
       "      <td>NW</td>\n",
       "      <td>2</td>\n",
       "      <td>121.469207</td>\n",
       "      <td>31.232276</td>\n",
       "      <td>shanghai</td>\n",
       "    </tr>\n",
       "    <tr>\n",
       "      <th>60</th>\n",
       "      <td>6</td>\n",
       "      <td>15</td>\n",
       "      <td>none</td>\n",
       "      <td>4</td>\n",
       "      <td>6</td>\n",
       "      <td>54</td>\n",
       "      <td>mcloudyday</td>\n",
       "      <td>2022-02-10 09:00:00</td>\n",
       "      <td>NW</td>\n",
       "      <td>2</td>\n",
       "      <td>121.469207</td>\n",
       "      <td>31.232276</td>\n",
       "      <td>shanghai</td>\n",
       "    </tr>\n",
       "    <tr>\n",
       "      <th>61</th>\n",
       "      <td>5</td>\n",
       "      <td>15</td>\n",
       "      <td>none</td>\n",
       "      <td>4</td>\n",
       "      <td>6</td>\n",
       "      <td>63</td>\n",
       "      <td>pcloudynight</td>\n",
       "      <td>2022-02-10 12:00:00</td>\n",
       "      <td>W</td>\n",
       "      <td>3</td>\n",
       "      <td>121.469207</td>\n",
       "      <td>31.232276</td>\n",
       "      <td>shanghai</td>\n",
       "    </tr>\n",
       "    <tr>\n",
       "      <th>62</th>\n",
       "      <td>7</td>\n",
       "      <td>15</td>\n",
       "      <td>none</td>\n",
       "      <td>4</td>\n",
       "      <td>6</td>\n",
       "      <td>74</td>\n",
       "      <td>mcloudynight</td>\n",
       "      <td>2022-02-10 15:00:00</td>\n",
       "      <td>SW</td>\n",
       "      <td>3</td>\n",
       "      <td>121.469207</td>\n",
       "      <td>31.232276</td>\n",
       "      <td>shanghai</td>\n",
       "    </tr>\n",
       "    <tr>\n",
       "      <th>63</th>\n",
       "      <td>8</td>\n",
       "      <td>15</td>\n",
       "      <td>none</td>\n",
       "      <td>4</td>\n",
       "      <td>6</td>\n",
       "      <td>79</td>\n",
       "      <td>cloudynight</td>\n",
       "      <td>2022-02-10 18:00:00</td>\n",
       "      <td>W</td>\n",
       "      <td>4</td>\n",
       "      <td>121.469207</td>\n",
       "      <td>31.232276</td>\n",
       "      <td>shanghai</td>\n",
       "    </tr>\n",
       "  </tbody>\n",
       "</table>\n",
       "<p>64 rows × 13 columns</p>\n",
       "</div>"
      ],
      "text/plain": [
       "    cloudcover  lifted_index prec_type  prec_amount  temp2m rh2m  \\\n",
       "0            9            15      none            1       4   90   \n",
       "1            9            15      rain            1       4   65   \n",
       "2            9            15      none            1       5   53   \n",
       "3            9            15      none            1       5   51   \n",
       "4            9            15      rain            1       5   62   \n",
       "..         ...           ...       ...          ...     ...  ...   \n",
       "59           7            15      rain            4       5   47   \n",
       "60           6            15      none            4       6   54   \n",
       "61           5            15      none            4       6   63   \n",
       "62           7            15      none            4       6   74   \n",
       "63           8            15      none            4       6   79   \n",
       "\n",
       "         weather           timestamp wind_direction  wind_speed   longitude  \\\n",
       "0    cloudynight 2022-02-02 21:00:00             NE           3  121.469207   \n",
       "1   lightrainday 2022-02-03 00:00:00             NE           3  121.469207   \n",
       "2      cloudyday 2022-02-03 03:00:00             NE           3  121.469207   \n",
       "3      cloudyday 2022-02-03 06:00:00             NE           3  121.469207   \n",
       "4   lightrainday 2022-02-03 09:00:00             NE           3  121.469207   \n",
       "..           ...                 ...            ...         ...         ...   \n",
       "59       rainday 2022-02-10 06:00:00             NW           2  121.469207   \n",
       "60    mcloudyday 2022-02-10 09:00:00             NW           2  121.469207   \n",
       "61  pcloudynight 2022-02-10 12:00:00              W           3  121.469207   \n",
       "62  mcloudynight 2022-02-10 15:00:00             SW           3  121.469207   \n",
       "63   cloudynight 2022-02-10 18:00:00              W           4  121.469207   \n",
       "\n",
       "     latitude      city  \n",
       "0   31.232276  shanghai  \n",
       "1   31.232276  shanghai  \n",
       "2   31.232276  shanghai  \n",
       "3   31.232276  shanghai  \n",
       "4   31.232276  shanghai  \n",
       "..        ...       ...  \n",
       "59  31.232276  shanghai  \n",
       "60  31.232276  shanghai  \n",
       "61  31.232276  shanghai  \n",
       "62  31.232276  shanghai  \n",
       "63  31.232276  shanghai  \n",
       "\n",
       "[64 rows x 13 columns]"
      ]
     },
     "execution_count": 3,
     "metadata": {},
     "output_type": "execute_result"
    }
   ],
   "source": [
    "city = 'shanghai'\n",
    "lon, lat = get_geo_from_city(city)\n",
    "url = generate_url(lon, lat)\n",
    "text_j = request_weather_info(url)\n",
    "weather_info_df = transform_weather_raw(text_j)\n",
    "weather_info_df = add_city_info(weather_info_df, lon, lat, city)\n",
    "weather_info_df"
   ]
  },
  {
   "cell_type": "markdown",
   "id": "84e561b0",
   "metadata": {},
   "source": [
    "## Using SQLite\n",
    "We can use any relational database to save the data. But here I strongly suggest to use SQLite, as it is lightest but still powerful. Even you don't need to waste time to install it.\n",
    "\n",
    "SQLite is not directly comparable to client/server SQL database engines such as MySQL, Oracle, PostgreSQL, or SQL Server since SQLite is trying to solve a different problem.\n",
    "## Using sqlalchemy\n",
    "Anyway, we are using another powerful library to handle the database access. It is sqlalchemy, indeed.   SQLAlchemy consists of two distinct components, known as the Core and the ORM.\n",
    "\n",
    "```\n",
    "pip install sqlalchemy\n",
    "```\n",
    "\n",
    "https://docs.sqlalchemy.org/en/14/tutorial/index.html"
   ]
  },
  {
   "cell_type": "code",
   "execution_count": 4,
   "id": "4a97057e",
   "metadata": {},
   "outputs": [],
   "source": [
    "from sqlalchemy import create_engine"
   ]
  },
  {
   "cell_type": "code",
   "execution_count": 5,
   "id": "768148b5",
   "metadata": {},
   "outputs": [],
   "source": [
    "engine = create_engine('sqlite:///weather.db')"
   ]
  },
  {
   "cell_type": "code",
   "execution_count": 6,
   "id": "61006046",
   "metadata": {},
   "outputs": [
    {
     "data": {
      "text/plain": [
       "Engine(sqlite:///weather.db)"
      ]
     },
     "execution_count": 6,
     "metadata": {},
     "output_type": "execute_result"
    }
   ],
   "source": [
    "engine"
   ]
  },
  {
   "cell_type": "code",
   "execution_count": 7,
   "id": "ac1aff70",
   "metadata": {},
   "outputs": [],
   "source": [
    "from sqlalchemy.orm import Session"
   ]
  },
  {
   "cell_type": "code",
   "execution_count": 8,
   "id": "0e65d2b8",
   "metadata": {},
   "outputs": [],
   "source": [
    "session = Session(engine)"
   ]
  },
  {
   "cell_type": "code",
   "execution_count": 9,
   "id": "bab392fa",
   "metadata": {},
   "outputs": [
    {
     "data": {
      "text/plain": [
       "<sqlalchemy.orm.session.Session at 0x26a3834ae20>"
      ]
     },
     "execution_count": 9,
     "metadata": {},
     "output_type": "execute_result"
    }
   ],
   "source": [
    "session"
   ]
  },
  {
   "cell_type": "markdown",
   "id": "565df164",
   "metadata": {},
   "source": [
    "## Create Table by Using ORM \n",
    "The Declarative Mapping is the typical way that mappings are constructed in modern SQLAlchemy. The most common pattern is to first construct a base class using the declarative_base() function, which will apply the declarative mapping process to all subclasses that derive from it. (https://docs.sqlalchemy.org/en/20/orm/mapping_styles.html)\n",
    "\n",
    "Refering to DataFrame structure, we create a Python class and include each column in DataFrame as attribute in class.\n",
    "Each class attribute indicates specific column in the table."
   ]
  },
  {
   "cell_type": "code",
   "execution_count": 10,
   "id": "939774e8",
   "metadata": {},
   "outputs": [],
   "source": [
    "# create database table by defining python class\n",
    "from sqlalchemy.orm import declarative_base\n",
    "from sqlalchemy import Column,Integer,String,Float\n",
    "Base = declarative_base()\n"
   ]
  },
  {
   "cell_type": "code",
   "execution_count": 11,
   "id": "80fae0f9",
   "metadata": {},
   "outputs": [],
   "source": [
    "class WeatherInfo(Base):\n",
    "    __tablename__ = 'weather'\n",
    "    __table_args__ = {'extend_existing': True}\n",
    "    id = Column(Integer,primary_key=True,autoincrement=True)  # use autoincrement\n",
    "    timestamp = Column(String(55))\n",
    "    cloudcover = Column(Integer)\n",
    "    lifted_index = Column(Integer)\n",
    "    prec_type = Column(String(10))\n",
    "    prec_amount = Column(Integer)\n",
    "    temp2m = Column(Integer)\n",
    "    rh2m = Column(Integer)\n",
    "    weather = Column(String(20))\n",
    "    wind_direction = Column(String(4))\n",
    "    wind_speed = Column(Integer)\n",
    "    longitude = Column(Float(precision=10, decimal_return_scale=2))\n",
    "    latitude = Column(Float(precision=10, decimal_return_scale=2))\n",
    "    city=Column(String(50))\n",
    "        \n"
   ]
  },
  {
   "cell_type": "markdown",
   "id": "f2ffe464",
   "metadata": {},
   "source": [
    "## Query and Insert Data from Database\n",
    "As you can see below, the query get 0 result since the table is created as brand new.\n",
    "\n",
    "After we insert the DataFrame into database, the newer query gets data.\n",
    "\n",
    "Keep in mind to close the session after all transactions."
   ]
  },
  {
   "cell_type": "code",
   "execution_count": 12,
   "id": "97a196e4",
   "metadata": {},
   "outputs": [
    {
     "data": {
      "text/plain": [
       "83393"
      ]
     },
     "execution_count": 12,
     "metadata": {},
     "output_type": "execute_result"
    }
   ],
   "source": [
    "Base.metadata.create_all(engine)\n",
    "result = session.query(WeatherInfo).all()\n",
    "len(result)"
   ]
  },
  {
   "cell_type": "code",
   "execution_count": 13,
   "id": "db6e2002",
   "metadata": {},
   "outputs": [
    {
     "data": {
      "text/plain": [
       "64"
      ]
     },
     "execution_count": 13,
     "metadata": {},
     "output_type": "execute_result"
    }
   ],
   "source": [
    "weather_info_df.to_sql('weather',engine,if_exists='append',index=False) # without index"
   ]
  },
  {
   "cell_type": "code",
   "execution_count": 14,
   "id": "2c23a0f5",
   "metadata": {},
   "outputs": [
    {
     "data": {
      "text/plain": [
       "83393"
      ]
     },
     "execution_count": 14,
     "metadata": {},
     "output_type": "execute_result"
    }
   ],
   "source": [
    "result = session.query(WeatherInfo).all()\n",
    "len(result)"
   ]
  },
  {
   "cell_type": "code",
   "execution_count": 15,
   "id": "b7b28fdb",
   "metadata": {},
   "outputs": [],
   "source": [
    "session.close()"
   ]
  }
 ],
 "metadata": {
  "kernelspec": {
   "display_name": "dash",
   "language": "python",
   "name": "dash"
  },
  "language_info": {
   "codemirror_mode": {
    "name": "ipython",
    "version": 3
   },
   "file_extension": ".py",
   "mimetype": "text/x-python",
   "name": "python",
   "nbconvert_exporter": "python",
   "pygments_lexer": "ipython3",
   "version": "3.9.6"
  }
 },
 "nbformat": 4,
 "nbformat_minor": 5
}