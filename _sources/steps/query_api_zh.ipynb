{
 "cells": [
  {
   "cell_type": "markdown",
   "id": "035b4437",
   "metadata": {},
   "source": [
    "# 数据获取\n",
    "\n",
    "为了能够获得实时数据，我们采用调用网上的开源API来获取。一贯的，我不推荐采用爬虫获取数据。\n",
    "\n",
    "感谢国内大神的提供：https://www.7timer.info/. \n",
    "\n",
    "通过这个网站，我们可以输入地理位置（纬度和经度）来获取未来的天气预测。\n",
    "比如，对于上海来说，它的入口地址为： https://www.7timer.info/bin/api.pl?lon=121.474&lat=31.23&product=civil&output=json\n",
    "\n",
    "***需要说明的是： 这个网站提供了多个产品，用于查询天气信息，最常用的就是民用 - CIVIL，如果你有需要就可以使用其他API获取更多信息***\n"
   ]
  },
  {
   "cell_type": "markdown",
   "id": "948665f7",
   "metadata": {},
   "source": [
    "## 发生请求Request\n",
    "\n",
    "对一个网站的API获取信息的方式就是发送请求，有超级多的模块可以帮你完成这个任务，最常用的就是requests。这个几乎是鼻祖级别的，其他的无非是打包一些新特色。\n",
    "\n",
    "首先我们需要安装requests， 使用pip即可。\n",
    "\n",
    "***同样需要注意的是：不能拼错，记得新闻里面提到过有黑客采用障眼法，弄了一个以假乱真的requests 包***\n",
    "\n",
    "```! pip install requests```\n",
    "\n",
    "对于requests 包（任何一个包），查看他们的quickstart就可以实战了。\n",
    "\n",
    "https://docs.python-requests.org/en/latest/user/quickstart/"
   ]
  },
  {
   "cell_type": "code",
   "execution_count": 1,
   "id": "b30e6150",
   "metadata": {},
   "outputs": [],
   "source": [
    "import requests"
   ]
  },
  {
   "cell_type": "code",
   "execution_count": 2,
   "id": "f18922ec",
   "metadata": {},
   "outputs": [],
   "source": [
    "url = 'https://www.7timer.info/bin/api.pl?lon=121.474&lat=31.23&product=civil&output=json'"
   ]
  },
  {
   "cell_type": "code",
   "execution_count": 3,
   "id": "a1a14e4a",
   "metadata": {},
   "outputs": [
    {
     "name": "stdout",
     "output_type": "stream",
     "text": [
      "<Response [200]>\n",
      "UTF-8\n",
      "<class 'str'>\n"
     ]
    }
   ],
   "source": [
    "r = requests.get(url)\n",
    "print(r)\n",
    "print(r.encoding)\n",
    "print(type(r.text))"
   ]
  },
  {
   "cell_type": "markdown",
   "id": "c7cf0d04",
   "metadata": {},
   "source": [
    "对于响应的数据，我们需要把它解析成比较方便处理的python对象，比如dict或者更高级的DataFrame。 \n",
    "\n",
    "默认情况下，requests 返回的是json格式。\n",
    "\n",
    "Python自带有json模块，可以帮助我们通过loads 转换为其他dict。\n"
   ]
  },
  {
   "cell_type": "code",
   "execution_count": 4,
   "id": "00498f66",
   "metadata": {},
   "outputs": [],
   "source": [
    "import json"
   ]
  },
  {
   "cell_type": "code",
   "execution_count": 5,
   "id": "440c0065",
   "metadata": {},
   "outputs": [
    {
     "name": "stdout",
     "output_type": "stream",
     "text": [
      "<class 'dict'>\n"
     ]
    }
   ],
   "source": [
    "text_j= json.loads(r.text)\n",
    "print(type(text_j))"
   ]
  },
  {
   "cell_type": "markdown",
   "id": "ac521ae5",
   "metadata": {},
   "source": [
    "我们可以查看一下text_j的内容"
   ]
  },
  {
   "cell_type": "code",
   "execution_count": 6,
   "id": "99c70168",
   "metadata": {},
   "outputs": [
    {
     "data": {
      "text/plain": [
       "dict_keys(['product', 'init', 'dataseries'])"
      ]
     },
     "execution_count": 6,
     "metadata": {},
     "output_type": "execute_result"
    }
   ],
   "source": [
    "text_j.keys()"
   ]
  },
  {
   "cell_type": "code",
   "execution_count": 7,
   "id": "67293118",
   "metadata": {},
   "outputs": [
    {
     "data": {
      "text/plain": [
       "'civil'"
      ]
     },
     "execution_count": 7,
     "metadata": {},
     "output_type": "execute_result"
    }
   ],
   "source": [
    "text_j['product']"
   ]
  },
  {
   "cell_type": "code",
   "execution_count": 8,
   "id": "1b48d1a3",
   "metadata": {},
   "outputs": [
    {
     "data": {
      "text/plain": [
       "'2022020200'"
      ]
     },
     "execution_count": 8,
     "metadata": {},
     "output_type": "execute_result"
    }
   ],
   "source": [
    "text_j['init']"
   ]
  },
  {
   "cell_type": "code",
   "execution_count": 9,
   "id": "2562341b",
   "metadata": {},
   "outputs": [
    {
     "data": {
      "text/plain": [
       "{'timepoint': 3,\n",
       " 'cloudcover': 9,\n",
       " 'lifted_index': 15,\n",
       " 'prec_type': 'rain',\n",
       " 'prec_amount': 1,\n",
       " 'temp2m': 4,\n",
       " 'rh2m': '75%',\n",
       " 'wind10m': {'direction': 'NE', 'speed': 3},\n",
       " 'weather': 'lightrainday'}"
      ]
     },
     "execution_count": 9,
     "metadata": {},
     "output_type": "execute_result"
    }
   ],
   "source": [
    "text_j['dataseries'][0]"
   ]
  },
  {
   "cell_type": "markdown",
   "id": "af245055",
   "metadata": {},
   "source": [
    "## 解析数据\n",
    "我们注意到最有用的信息包含在dataseries元素中，对于这种list of dict格式的数据，我们建议采用DataFrame 来解析，应为它很像excel一个表格的内容。\n",
    "\n",
    "***关于每个字段的含义，可以参考 https://github.com/Yeqzids/7timer-issues/wiki/Wiki***"
   ]
  },
  {
   "cell_type": "code",
   "execution_count": 10,
   "id": "b4c4b8c3",
   "metadata": {},
   "outputs": [],
   "source": [
    "import pandas as pd"
   ]
  },
  {
   "cell_type": "code",
   "execution_count": 11,
   "id": "e33ef95e",
   "metadata": {},
   "outputs": [
    {
     "data": {
      "text/html": [
       "<div>\n",
       "<style scoped>\n",
       "    .dataframe tbody tr th:only-of-type {\n",
       "        vertical-align: middle;\n",
       "    }\n",
       "\n",
       "    .dataframe tbody tr th {\n",
       "        vertical-align: top;\n",
       "    }\n",
       "\n",
       "    .dataframe thead th {\n",
       "        text-align: right;\n",
       "    }\n",
       "</style>\n",
       "<table border=\"1\" class=\"dataframe\">\n",
       "  <thead>\n",
       "    <tr style=\"text-align: right;\">\n",
       "      <th></th>\n",
       "      <th>timepoint</th>\n",
       "      <th>cloudcover</th>\n",
       "      <th>lifted_index</th>\n",
       "      <th>prec_type</th>\n",
       "      <th>prec_amount</th>\n",
       "      <th>temp2m</th>\n",
       "      <th>rh2m</th>\n",
       "      <th>wind10m</th>\n",
       "      <th>weather</th>\n",
       "    </tr>\n",
       "  </thead>\n",
       "  <tbody>\n",
       "    <tr>\n",
       "      <th>0</th>\n",
       "      <td>3</td>\n",
       "      <td>9</td>\n",
       "      <td>15</td>\n",
       "      <td>rain</td>\n",
       "      <td>1</td>\n",
       "      <td>4</td>\n",
       "      <td>75%</td>\n",
       "      <td>{'direction': 'NE', 'speed': 3}</td>\n",
       "      <td>lightrainday</td>\n",
       "    </tr>\n",
       "    <tr>\n",
       "      <th>1</th>\n",
       "      <td>6</td>\n",
       "      <td>9</td>\n",
       "      <td>15</td>\n",
       "      <td>rain</td>\n",
       "      <td>2</td>\n",
       "      <td>4</td>\n",
       "      <td>70%</td>\n",
       "      <td>{'direction': 'NE', 'speed': 3}</td>\n",
       "      <td>lightrainday</td>\n",
       "    </tr>\n",
       "    <tr>\n",
       "      <th>2</th>\n",
       "      <td>9</td>\n",
       "      <td>9</td>\n",
       "      <td>15</td>\n",
       "      <td>rain</td>\n",
       "      <td>2</td>\n",
       "      <td>4</td>\n",
       "      <td>71%</td>\n",
       "      <td>{'direction': 'NE', 'speed': 3}</td>\n",
       "      <td>lightrainday</td>\n",
       "    </tr>\n",
       "    <tr>\n",
       "      <th>3</th>\n",
       "      <td>12</td>\n",
       "      <td>9</td>\n",
       "      <td>15</td>\n",
       "      <td>rain</td>\n",
       "      <td>2</td>\n",
       "      <td>3</td>\n",
       "      <td>86%</td>\n",
       "      <td>{'direction': 'NE', 'speed': 3}</td>\n",
       "      <td>lightrainnight</td>\n",
       "    </tr>\n",
       "    <tr>\n",
       "      <th>4</th>\n",
       "      <td>15</td>\n",
       "      <td>9</td>\n",
       "      <td>15</td>\n",
       "      <td>rain</td>\n",
       "      <td>2</td>\n",
       "      <td>3</td>\n",
       "      <td>92%</td>\n",
       "      <td>{'direction': 'NE', 'speed': 3}</td>\n",
       "      <td>lightrainnight</td>\n",
       "    </tr>\n",
       "  </tbody>\n",
       "</table>\n",
       "</div>"
      ],
      "text/plain": [
       "   timepoint  cloudcover  lifted_index prec_type  prec_amount  temp2m rh2m  \\\n",
       "0          3           9            15      rain            1       4  75%   \n",
       "1          6           9            15      rain            2       4  70%   \n",
       "2          9           9            15      rain            2       4  71%   \n",
       "3         12           9            15      rain            2       3  86%   \n",
       "4         15           9            15      rain            2       3  92%   \n",
       "\n",
       "                           wind10m         weather  \n",
       "0  {'direction': 'NE', 'speed': 3}    lightrainday  \n",
       "1  {'direction': 'NE', 'speed': 3}    lightrainday  \n",
       "2  {'direction': 'NE', 'speed': 3}    lightrainday  \n",
       "3  {'direction': 'NE', 'speed': 3}  lightrainnight  \n",
       "4  {'direction': 'NE', 'speed': 3}  lightrainnight  "
      ]
     },
     "execution_count": 11,
     "metadata": {},
     "output_type": "execute_result"
    }
   ],
   "source": [
    "weather_info = pd.DataFrame(text_j['dataseries'])\n",
    "weather_info.head(5)"
   ]
  },
  {
   "cell_type": "markdown",
   "id": "c6f69e5d",
   "metadata": {},
   "source": [
    "## 数据变换\n",
    "\n",
    "### 字符串转时间\n",
    "\n",
    "\"init\" 时间戳非常重要，但是它存储为str格式。 所以我们需要还原为datetime格式。而且，我们决定采用DataFrame来转换原始数据，为了一致性，我们采用 pd.to_datetime 函数而不是 datetime 模块来进行变换."
   ]
  },
  {
   "cell_type": "code",
   "execution_count": 12,
   "id": "b2965966",
   "metadata": {},
   "outputs": [
    {
     "data": {
      "text/plain": [
       "Timestamp('2022-02-02 00:00:00')"
      ]
     },
     "execution_count": 12,
     "metadata": {},
     "output_type": "execute_result"
    }
   ],
   "source": [
    "start_time = pd.to_datetime(text_j['init'],format='%Y%m%d%H')\n",
    "start_time"
   ]
  },
  {
   "cell_type": "markdown",
   "id": "135165a9",
   "metadata": {},
   "source": [
    "### int转timedelta\n",
    "timepoint 列表示未来N个小时，起始从init 开始算起。同样的，我们需要将这个timepoint还原成真实的时间戳。\n",
    "\n",
    "1. 将int转换为timedelta\n",
    "2. 将timedelta变成时间戳"
   ]
  },
  {
   "cell_type": "code",
   "execution_count": 13,
   "id": "0bbf786d",
   "metadata": {},
   "outputs": [],
   "source": [
    "# convert timepoint to timestamp\n",
    "weather_info['timepoint'] = pd.to_timedelta(weather_info['timepoint'],unit='h')"
   ]
  },
  {
   "cell_type": "code",
   "execution_count": 14,
   "id": "c720e6a4",
   "metadata": {},
   "outputs": [],
   "source": [
    "weather_info['timestamp'] = start_time+ weather_info['timepoint']"
   ]
  },
  {
   "cell_type": "code",
   "execution_count": 15,
   "id": "d920a096",
   "metadata": {},
   "outputs": [
    {
     "data": {
      "text/html": [
       "<div>\n",
       "<style scoped>\n",
       "    .dataframe tbody tr th:only-of-type {\n",
       "        vertical-align: middle;\n",
       "    }\n",
       "\n",
       "    .dataframe tbody tr th {\n",
       "        vertical-align: top;\n",
       "    }\n",
       "\n",
       "    .dataframe thead th {\n",
       "        text-align: right;\n",
       "    }\n",
       "</style>\n",
       "<table border=\"1\" class=\"dataframe\">\n",
       "  <thead>\n",
       "    <tr style=\"text-align: right;\">\n",
       "      <th></th>\n",
       "      <th>timepoint</th>\n",
       "      <th>cloudcover</th>\n",
       "      <th>lifted_index</th>\n",
       "      <th>prec_type</th>\n",
       "      <th>prec_amount</th>\n",
       "      <th>temp2m</th>\n",
       "      <th>rh2m</th>\n",
       "      <th>wind10m</th>\n",
       "      <th>weather</th>\n",
       "      <th>timestamp</th>\n",
       "    </tr>\n",
       "  </thead>\n",
       "  <tbody>\n",
       "    <tr>\n",
       "      <th>0</th>\n",
       "      <td>0 days 03:00:00</td>\n",
       "      <td>9</td>\n",
       "      <td>15</td>\n",
       "      <td>rain</td>\n",
       "      <td>1</td>\n",
       "      <td>4</td>\n",
       "      <td>75%</td>\n",
       "      <td>{'direction': 'NE', 'speed': 3}</td>\n",
       "      <td>lightrainday</td>\n",
       "      <td>2022-02-02 03:00:00</td>\n",
       "    </tr>\n",
       "    <tr>\n",
       "      <th>1</th>\n",
       "      <td>0 days 06:00:00</td>\n",
       "      <td>9</td>\n",
       "      <td>15</td>\n",
       "      <td>rain</td>\n",
       "      <td>2</td>\n",
       "      <td>4</td>\n",
       "      <td>70%</td>\n",
       "      <td>{'direction': 'NE', 'speed': 3}</td>\n",
       "      <td>lightrainday</td>\n",
       "      <td>2022-02-02 06:00:00</td>\n",
       "    </tr>\n",
       "    <tr>\n",
       "      <th>2</th>\n",
       "      <td>0 days 09:00:00</td>\n",
       "      <td>9</td>\n",
       "      <td>15</td>\n",
       "      <td>rain</td>\n",
       "      <td>2</td>\n",
       "      <td>4</td>\n",
       "      <td>71%</td>\n",
       "      <td>{'direction': 'NE', 'speed': 3}</td>\n",
       "      <td>lightrainday</td>\n",
       "      <td>2022-02-02 09:00:00</td>\n",
       "    </tr>\n",
       "    <tr>\n",
       "      <th>3</th>\n",
       "      <td>0 days 12:00:00</td>\n",
       "      <td>9</td>\n",
       "      <td>15</td>\n",
       "      <td>rain</td>\n",
       "      <td>2</td>\n",
       "      <td>3</td>\n",
       "      <td>86%</td>\n",
       "      <td>{'direction': 'NE', 'speed': 3}</td>\n",
       "      <td>lightrainnight</td>\n",
       "      <td>2022-02-02 12:00:00</td>\n",
       "    </tr>\n",
       "    <tr>\n",
       "      <th>4</th>\n",
       "      <td>0 days 15:00:00</td>\n",
       "      <td>9</td>\n",
       "      <td>15</td>\n",
       "      <td>rain</td>\n",
       "      <td>2</td>\n",
       "      <td>3</td>\n",
       "      <td>92%</td>\n",
       "      <td>{'direction': 'NE', 'speed': 3}</td>\n",
       "      <td>lightrainnight</td>\n",
       "      <td>2022-02-02 15:00:00</td>\n",
       "    </tr>\n",
       "  </tbody>\n",
       "</table>\n",
       "</div>"
      ],
      "text/plain": [
       "        timepoint  cloudcover  lifted_index prec_type  prec_amount  temp2m  \\\n",
       "0 0 days 03:00:00           9            15      rain            1       4   \n",
       "1 0 days 06:00:00           9            15      rain            2       4   \n",
       "2 0 days 09:00:00           9            15      rain            2       4   \n",
       "3 0 days 12:00:00           9            15      rain            2       3   \n",
       "4 0 days 15:00:00           9            15      rain            2       3   \n",
       "\n",
       "  rh2m                          wind10m         weather           timestamp  \n",
       "0  75%  {'direction': 'NE', 'speed': 3}    lightrainday 2022-02-02 03:00:00  \n",
       "1  70%  {'direction': 'NE', 'speed': 3}    lightrainday 2022-02-02 06:00:00  \n",
       "2  71%  {'direction': 'NE', 'speed': 3}    lightrainday 2022-02-02 09:00:00  \n",
       "3  86%  {'direction': 'NE', 'speed': 3}  lightrainnight 2022-02-02 12:00:00  \n",
       "4  92%  {'direction': 'NE', 'speed': 3}  lightrainnight 2022-02-02 15:00:00  "
      ]
     },
     "execution_count": 15,
     "metadata": {},
     "output_type": "execute_result"
    }
   ],
   "source": [
    "weather_info.head(5)"
   ]
  },
  {
   "cell_type": "markdown",
   "id": "6641c2f3",
   "metadata": {},
   "source": [
    "\n",
    "## 从城市名获取地理位置\n",
    "如果你想输入城市名，然后直接获取天气信息呢？ 那么我们就需要通过城市名先获取地理位置。幸运的是，已经有模块可以帮我们完成这个任务geopy\n",
    "\n",
    "如果你需要的话，可以安装。\n",
    "\n",
    "```pip install geopy```\n",
    "\n",
    "***关于geopy可以参考：***\n",
    "https://geopy.readthedocs.io/en/stable/"
   ]
  },
  {
   "cell_type": "code",
   "execution_count": 16,
   "id": "f85bab9e",
   "metadata": {},
   "outputs": [],
   "source": [
    "from geopy.geocoders import Nominatim"
   ]
  },
  {
   "cell_type": "code",
   "execution_count": 17,
   "id": "0486ee3f",
   "metadata": {},
   "outputs": [
    {
     "name": "stdout",
     "output_type": "stream",
     "text": [
      "上海市, 黄浦区, 上海市, 200001, 中国\n",
      "(31.2322758, 121.4692071)\n"
     ]
    }
   ],
   "source": [
    "geolocator = Nominatim(user_agent='baidu')\n",
    "location = geolocator.geocode(\"shanghai\")\n",
    "print(location.address)\n",
    "print((location.latitude, location.longitude))"
   ]
  },
  {
   "cell_type": "markdown",
   "id": "ebc5caba",
   "metadata": {},
   "source": [
    "## 小结\n",
    "到目前为止，我们一步一步的实现如何输入城市名，然后调用api获取天气预测信息。\n",
    "在进行其他操作之前，我们需要清理一下我们的代码，最好写成函数形式，因为未来需要重复调用它们。\n"
   ]
  },
  {
   "cell_type": "code",
   "execution_count": null,
   "id": "cac6eb9c",
   "metadata": {},
   "outputs": [],
   "source": []
  }
 ],
 "metadata": {
  "kernelspec": {
   "display_name": "dash",
   "language": "python",
   "name": "dash"
  },
  "language_info": {
   "codemirror_mode": {
    "name": "ipython",
    "version": 3
   },
   "file_extension": ".py",
   "mimetype": "text/x-python",
   "name": "python",
   "nbconvert_exporter": "python",
   "pygments_lexer": "ipython3",
   "version": "3.9.6"
  }
 },
 "nbformat": 4,
 "nbformat_minor": 5
}
