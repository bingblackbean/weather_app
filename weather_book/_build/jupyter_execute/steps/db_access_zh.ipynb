{
 "cells": [
  {
   "cell_type": "markdown",
   "id": "16706c4a",
   "metadata": {},
   "source": [
    "# 连接数据库SQLite\n",
    "\n",
    "## 准备数据\n",
    " 之前的章节我们已经测试了Request API接口，并且把代码做了规范化处理。本节练习中，我们需要先把一些函数从notebook中导出到py文件中，这样就可以复用了。\n",
    " \n",
    "***需要注意的是: Pycharm中软件帮我们设置了项目的根目录，并且把根目录包含在系统path中。所以当我们用import导入时，python可以找到我们自己写的模块。 这里我们采用的是原生的jupyter notebook，需要手动将我们的模块添加到系统path中。一种方法是手动添加到环境变量中，这是永久方法。还有一种方法是添加临时path。本文就是采用后一种方式。***\n"
   ]
  },
  {
   "cell_type": "code",
   "execution_count": 1,
   "id": "5a28f37f",
   "metadata": {},
   "outputs": [
    {
     "name": "stdout",
     "output_type": "stream",
     "text": [
      "C:\\Users\\renb\\PycharmProjects\\weather_dashapp\\weather_book\n"
     ]
    }
   ],
   "source": [
    "import os\n",
    "import sys\n",
    "\n",
    "module_path = os.path.abspath(os.path.join('..'))\n",
    "print(module_path)\n",
    "if module_path not in sys.path:\n",
    "    sys.path.append(module_path)"
   ]
  },
  {
   "cell_type": "markdown",
   "id": "55dc985d",
   "metadata": {},
   "source": [
    "## 项目结构\n",
    "```\n",
    "weather_book\n",
    "├───.ipynb_checkpoints\n",
    "├───data\n",
    "├───steps  <-- notebook 主要在这里\n",
    "├───weather_app\n",
    "│   ├───models    <-- 函数写在这里\n",
    "\n",
    "```\n",
    "添加完path之后，就可以导入自己的模块了。 注意如果是上面的路径中采用的“..”,说明只返回上一层，如果是“../..\",说明返回了两层。 \n",
    "返回一层和两层对我的项目的区别是，以下代码是否需要包含weather_book。\n",
    "如果只返回一层，系统可以直接找到weather_app 模块，但是无法找到weather_book（因为已经在weather_book模块内了，不识模块真面目，只缘身在此山中）。"
   ]
  },
  {
   "cell_type": "code",
   "execution_count": 2,
   "id": "0428fda7",
   "metadata": {},
   "outputs": [],
   "source": [
    "from weather_app.models.query_api import get_geo_from_city,generate_url,request_weather_info,transform_weather_raw,add_city_info"
   ]
  },
  {
   "cell_type": "markdown",
   "id": "95c4ada3",
   "metadata": {},
   "source": [
    "一个好的习惯是，对你的函数进行快速测试。"
   ]
  },
  {
   "cell_type": "code",
   "execution_count": 3,
   "id": "ecc46534",
   "metadata": {},
   "outputs": [
    {
     "data": {
      "text/html": [
       "<div>\n",
       "<style scoped>\n",
       "    .dataframe tbody tr th:only-of-type {\n",
       "        vertical-align: middle;\n",
       "    }\n",
       "\n",
       "    .dataframe tbody tr th {\n",
       "        vertical-align: top;\n",
       "    }\n",
       "\n",
       "    .dataframe thead th {\n",
       "        text-align: right;\n",
       "    }\n",
       "</style>\n",
       "<table border=\"1\" class=\"dataframe\">\n",
       "  <thead>\n",
       "    <tr style=\"text-align: right;\">\n",
       "      <th></th>\n",
       "      <th>cloudcover</th>\n",
       "      <th>lifted_index</th>\n",
       "      <th>prec_type</th>\n",
       "      <th>prec_amount</th>\n",
       "      <th>temp2m</th>\n",
       "      <th>rh2m</th>\n",
       "      <th>weather</th>\n",
       "      <th>timestamp</th>\n",
       "      <th>wind_direction</th>\n",
       "      <th>wind_speed</th>\n",
       "      <th>longitude</th>\n",
       "      <th>latitude</th>\n",
       "      <th>city</th>\n",
       "    </tr>\n",
       "  </thead>\n",
       "  <tbody>\n",
       "    <tr>\n",
       "      <th>0</th>\n",
       "      <td>9</td>\n",
       "      <td>15</td>\n",
       "      <td>none</td>\n",
       "      <td>1</td>\n",
       "      <td>4</td>\n",
       "      <td>89</td>\n",
       "      <td>cloudynight</td>\n",
       "      <td>2022-02-02 21:00:00</td>\n",
       "      <td>NE</td>\n",
       "      <td>3</td>\n",
       "      <td>121.469207</td>\n",
       "      <td>31.232276</td>\n",
       "      <td>shanghai</td>\n",
       "    </tr>\n",
       "    <tr>\n",
       "      <th>1</th>\n",
       "      <td>9</td>\n",
       "      <td>15</td>\n",
       "      <td>rain</td>\n",
       "      <td>1</td>\n",
       "      <td>4</td>\n",
       "      <td>69</td>\n",
       "      <td>lightrainday</td>\n",
       "      <td>2022-02-03 00:00:00</td>\n",
       "      <td>NE</td>\n",
       "      <td>3</td>\n",
       "      <td>121.469207</td>\n",
       "      <td>31.232276</td>\n",
       "      <td>shanghai</td>\n",
       "    </tr>\n",
       "    <tr>\n",
       "      <th>2</th>\n",
       "      <td>9</td>\n",
       "      <td>15</td>\n",
       "      <td>none</td>\n",
       "      <td>1</td>\n",
       "      <td>5</td>\n",
       "      <td>51</td>\n",
       "      <td>cloudyday</td>\n",
       "      <td>2022-02-03 03:00:00</td>\n",
       "      <td>NE</td>\n",
       "      <td>3</td>\n",
       "      <td>121.469207</td>\n",
       "      <td>31.232276</td>\n",
       "      <td>shanghai</td>\n",
       "    </tr>\n",
       "    <tr>\n",
       "      <th>3</th>\n",
       "      <td>9</td>\n",
       "      <td>15</td>\n",
       "      <td>none</td>\n",
       "      <td>1</td>\n",
       "      <td>5</td>\n",
       "      <td>51</td>\n",
       "      <td>cloudyday</td>\n",
       "      <td>2022-02-03 06:00:00</td>\n",
       "      <td>NE</td>\n",
       "      <td>3</td>\n",
       "      <td>121.469207</td>\n",
       "      <td>31.232276</td>\n",
       "      <td>shanghai</td>\n",
       "    </tr>\n",
       "    <tr>\n",
       "      <th>4</th>\n",
       "      <td>9</td>\n",
       "      <td>15</td>\n",
       "      <td>rain</td>\n",
       "      <td>1</td>\n",
       "      <td>5</td>\n",
       "      <td>60</td>\n",
       "      <td>lightrainday</td>\n",
       "      <td>2022-02-03 09:00:00</td>\n",
       "      <td>NE</td>\n",
       "      <td>3</td>\n",
       "      <td>121.469207</td>\n",
       "      <td>31.232276</td>\n",
       "      <td>shanghai</td>\n",
       "    </tr>\n",
       "    <tr>\n",
       "      <th>...</th>\n",
       "      <td>...</td>\n",
       "      <td>...</td>\n",
       "      <td>...</td>\n",
       "      <td>...</td>\n",
       "      <td>...</td>\n",
       "      <td>...</td>\n",
       "      <td>...</td>\n",
       "      <td>...</td>\n",
       "      <td>...</td>\n",
       "      <td>...</td>\n",
       "      <td>...</td>\n",
       "      <td>...</td>\n",
       "      <td>...</td>\n",
       "    </tr>\n",
       "    <tr>\n",
       "      <th>59</th>\n",
       "      <td>7</td>\n",
       "      <td>15</td>\n",
       "      <td>rain</td>\n",
       "      <td>4</td>\n",
       "      <td>5</td>\n",
       "      <td>50</td>\n",
       "      <td>rainday</td>\n",
       "      <td>2022-02-10 06:00:00</td>\n",
       "      <td>NW</td>\n",
       "      <td>2</td>\n",
       "      <td>121.469207</td>\n",
       "      <td>31.232276</td>\n",
       "      <td>shanghai</td>\n",
       "    </tr>\n",
       "    <tr>\n",
       "      <th>60</th>\n",
       "      <td>6</td>\n",
       "      <td>15</td>\n",
       "      <td>none</td>\n",
       "      <td>4</td>\n",
       "      <td>6</td>\n",
       "      <td>55</td>\n",
       "      <td>mcloudyday</td>\n",
       "      <td>2022-02-10 09:00:00</td>\n",
       "      <td>NW</td>\n",
       "      <td>2</td>\n",
       "      <td>121.469207</td>\n",
       "      <td>31.232276</td>\n",
       "      <td>shanghai</td>\n",
       "    </tr>\n",
       "    <tr>\n",
       "      <th>61</th>\n",
       "      <td>5</td>\n",
       "      <td>15</td>\n",
       "      <td>none</td>\n",
       "      <td>4</td>\n",
       "      <td>6</td>\n",
       "      <td>62</td>\n",
       "      <td>pcloudynight</td>\n",
       "      <td>2022-02-10 12:00:00</td>\n",
       "      <td>W</td>\n",
       "      <td>3</td>\n",
       "      <td>121.469207</td>\n",
       "      <td>31.232276</td>\n",
       "      <td>shanghai</td>\n",
       "    </tr>\n",
       "    <tr>\n",
       "      <th>62</th>\n",
       "      <td>7</td>\n",
       "      <td>15</td>\n",
       "      <td>none</td>\n",
       "      <td>4</td>\n",
       "      <td>6</td>\n",
       "      <td>71</td>\n",
       "      <td>mcloudynight</td>\n",
       "      <td>2022-02-10 15:00:00</td>\n",
       "      <td>SW</td>\n",
       "      <td>3</td>\n",
       "      <td>121.469207</td>\n",
       "      <td>31.232276</td>\n",
       "      <td>shanghai</td>\n",
       "    </tr>\n",
       "    <tr>\n",
       "      <th>63</th>\n",
       "      <td>8</td>\n",
       "      <td>15</td>\n",
       "      <td>none</td>\n",
       "      <td>4</td>\n",
       "      <td>6</td>\n",
       "      <td>80</td>\n",
       "      <td>cloudynight</td>\n",
       "      <td>2022-02-10 18:00:00</td>\n",
       "      <td>W</td>\n",
       "      <td>4</td>\n",
       "      <td>121.469207</td>\n",
       "      <td>31.232276</td>\n",
       "      <td>shanghai</td>\n",
       "    </tr>\n",
       "  </tbody>\n",
       "</table>\n",
       "<p>64 rows × 13 columns</p>\n",
       "</div>"
      ],
      "text/plain": [
       "    cloudcover  lifted_index prec_type  prec_amount  temp2m rh2m  \\\n",
       "0            9            15      none            1       4   89   \n",
       "1            9            15      rain            1       4   69   \n",
       "2            9            15      none            1       5   51   \n",
       "3            9            15      none            1       5   51   \n",
       "4            9            15      rain            1       5   60   \n",
       "..         ...           ...       ...          ...     ...  ...   \n",
       "59           7            15      rain            4       5   50   \n",
       "60           6            15      none            4       6   55   \n",
       "61           5            15      none            4       6   62   \n",
       "62           7            15      none            4       6   71   \n",
       "63           8            15      none            4       6   80   \n",
       "\n",
       "         weather           timestamp wind_direction  wind_speed   longitude  \\\n",
       "0    cloudynight 2022-02-02 21:00:00             NE           3  121.469207   \n",
       "1   lightrainday 2022-02-03 00:00:00             NE           3  121.469207   \n",
       "2      cloudyday 2022-02-03 03:00:00             NE           3  121.469207   \n",
       "3      cloudyday 2022-02-03 06:00:00             NE           3  121.469207   \n",
       "4   lightrainday 2022-02-03 09:00:00             NE           3  121.469207   \n",
       "..           ...                 ...            ...         ...         ...   \n",
       "59       rainday 2022-02-10 06:00:00             NW           2  121.469207   \n",
       "60    mcloudyday 2022-02-10 09:00:00             NW           2  121.469207   \n",
       "61  pcloudynight 2022-02-10 12:00:00              W           3  121.469207   \n",
       "62  mcloudynight 2022-02-10 15:00:00             SW           3  121.469207   \n",
       "63   cloudynight 2022-02-10 18:00:00              W           4  121.469207   \n",
       "\n",
       "     latitude      city  \n",
       "0   31.232276  shanghai  \n",
       "1   31.232276  shanghai  \n",
       "2   31.232276  shanghai  \n",
       "3   31.232276  shanghai  \n",
       "4   31.232276  shanghai  \n",
       "..        ...       ...  \n",
       "59  31.232276  shanghai  \n",
       "60  31.232276  shanghai  \n",
       "61  31.232276  shanghai  \n",
       "62  31.232276  shanghai  \n",
       "63  31.232276  shanghai  \n",
       "\n",
       "[64 rows x 13 columns]"
      ]
     },
     "execution_count": 3,
     "metadata": {},
     "output_type": "execute_result"
    }
   ],
   "source": [
    "city = 'shanghai'\n",
    "lon, lat = get_geo_from_city(city)\n",
    "url = generate_url(lon, lat)\n",
    "text_j = request_weather_info(url)\n",
    "weather_info_df = transform_weather_raw(text_j)\n",
    "weather_info_df = add_city_info(weather_info_df, lon, lat, city)\n",
    "weather_info_df"
   ]
  },
  {
   "attachments": {
    "sqla_arch_small.png": {
     "image/png": "[encoded data removed]"
    }
   },
   "cell_type": "markdown",
   "id": "84e561b0",
   "metadata": {},
   "source": [
    "## 引入SQLite\n",
    "我们可以使用任意的关系数据库保存这些数据，但是这里我强烈推荐SQLite，因为它轻量，无无服务器，免安装，开箱即用。对于新手来说，完全是无痛体验。\n",
    "但是它支持标准的SQL查询语言的功能，我们一样可以用它练习数据库的增删查操作。\n",
    "\n",
    "如果想快速入门，可以参考中文网站：\n",
    "https://www.runoob.com/sqlite/sqlite-intro.html#:~:text=SQLite%E6%98%AF%E4%B8%80%E4%B8%AA%E8%BF%9B%E7%A8%8B%E5%86%85,%E7%9B%B4%E6%8E%A5%E8%AE%BF%E9%97%AE%E5%85%B6%E5%AD%98%E5%82%A8%E6%96%87%E4%BB%B6%E3%80%82\n",
    "\n",
    "## 使用 SQLAlchemy\n",
    "我们已经选择了SQLite 作为我们的数据库，作为“客户端”python和数据库之间的衔接，我们可以选择很多库，这里推荐的是SQLAlchemy。\n",
    "这里对 SQLAlchemy做一个简单介绍，SQLAlchemy 是用于处理数据库和Python的工具。他的主要组成其实是两部分：core和ORM。 core属于低阶API，ORM属于高阶API。也就是说，ORM建立在Core上。\n",
    "\n",
    "\n",
    "![sqla_arch_small.png](attachment:sqla_arch_small.png)\n",
    "首先我们需要安装SQLAlchemy，采用pip安装。\n",
    "\n",
    "```pip install sqlalchemy```\n",
    "\n",
    "https://docs.sqlalchemy.org/en/14/tutorial/index.html"
   ]
  },
  {
   "cell_type": "markdown",
   "id": "41932386",
   "metadata": {},
   "source": [
    "首先我们需要建立对话，调用create_engine 函数。对于SQLite 来说，URL格式就是本地数据库（文件）的路径，这里我需要在当前文件夹生成这个数据库，所以不会添加其他相对路径，只有一个文件名而已。"
   ]
  },
  {
   "cell_type": "code",
   "execution_count": 4,
   "id": "4a97057e",
   "metadata": {},
   "outputs": [],
   "source": [
    "from sqlalchemy import create_engine"
   ]
  },
  {
   "cell_type": "code",
   "execution_count": 5,
   "id": "768148b5",
   "metadata": {},
   "outputs": [],
   "source": [
    "engine = create_engine('sqlite:///weather.db')"
   ]
  },
  {
   "cell_type": "code",
   "execution_count": 6,
   "id": "61006046",
   "metadata": {},
   "outputs": [
    {
     "data": {
      "text/plain": [
       "Engine(sqlite:///weather.db)"
      ]
     },
     "execution_count": 6,
     "metadata": {},
     "output_type": "execute_result"
    }
   ],
   "source": [
    "engine"
   ]
  },
  {
   "cell_type": "markdown",
   "id": "b4248004",
   "metadata": {},
   "source": [
    "想要做增删查的操作，就需要建立一个Session会话。这样我们就有一个session为我们敞开大门，等着我们进行操作。"
   ]
  },
  {
   "cell_type": "code",
   "execution_count": 7,
   "id": "ac1aff70",
   "metadata": {},
   "outputs": [],
   "source": [
    "from sqlalchemy.orm import Session"
   ]
  },
  {
   "cell_type": "code",
   "execution_count": 8,
   "id": "0e65d2b8",
   "metadata": {},
   "outputs": [],
   "source": [
    "session = Session(engine)"
   ]
  },
  {
   "cell_type": "code",
   "execution_count": 9,
   "id": "bab392fa",
   "metadata": {},
   "outputs": [
    {
     "data": {
      "text/plain": [
       "<sqlalchemy.orm.session.Session at 0x19a1fa82220>"
      ]
     },
     "execution_count": 9,
     "metadata": {},
     "output_type": "execute_result"
    }
   ],
   "source": [
    "session"
   ]
  },
  {
   "cell_type": "markdown",
   "id": "565df164",
   "metadata": {},
   "source": [
    "## 使用ORM 管理表\n",
    "The Declarative Mapping is the typical way that mappings are constructed in modern SQLAlchemy. The most common pattern is to first construct a base class using the declarative_base() function, which will apply the declarative mapping process to all subclasses that derive from it. (https://docs.sqlalchemy.org/en/20/orm/mapping_styles.html)\n",
    "\n",
    "Refering to DataFrame structure, we create a Python class and include each column in DataFrame as attribute in class.\n",
    "Each class attribute indicates specific column in the table."
   ]
  },
  {
   "cell_type": "code",
   "execution_count": 10,
   "id": "939774e8",
   "metadata": {},
   "outputs": [],
   "source": [
    "# create database table by defining python class\n",
    "from sqlalchemy.orm import declarative_base\n",
    "from sqlalchemy import Column,Integer,String,Float\n",
    "Base = declarative_base()\n"
   ]
  },
  {
   "cell_type": "code",
   "execution_count": 11,
   "id": "80fae0f9",
   "metadata": {},
   "outputs": [],
   "source": [
    "class WeatherInfo(Base):\n",
    "    __tablename__ = 'weather'\n",
    "    __table_args__ = {'extend_existing': True}\n",
    "    id = Column(Integer,primary_key=True,autoincrement=True)  # use autoincrement\n",
    "    timestamp = Column(String(55))\n",
    "    cloudcover = Column(Integer)\n",
    "    lifted_index = Column(Integer)\n",
    "    prec_type = Column(String(10))\n",
    "    prec_amount = Column(Integer)\n",
    "    temp2m = Column(Integer)\n",
    "    rh2m = Column(Integer)\n",
    "    weather = Column(String(20))\n",
    "    wind_direction = Column(String(4))\n",
    "    wind_speed = Column(Integer)\n",
    "    longitude = Column(Float(precision=10, decimal_return_scale=2))\n",
    "    latitude = Column(Float(precision=10, decimal_return_scale=2))\n",
    "    city=Column(String(50))\n",
    "        \n"
   ]
  },
  {
   "cell_type": "markdown",
   "id": "f2ffe464",
   "metadata": {},
   "source": [
    "## Query and Insert Data from Database\n",
    "As you can see below, the query get 0 result since the table is created as brand new.\n",
    "\n",
    "After we insert the DataFrame into database, the newer query gets data.\n",
    "\n",
    "Keep in mind to close the session after all transactions."
   ]
  },
  {
   "cell_type": "code",
   "execution_count": 12,
   "id": "97a196e4",
   "metadata": {},
   "outputs": [
    {
     "data": {
      "text/plain": [
       "83393"
      ]
     },
     "execution_count": 12,
     "metadata": {},
     "output_type": "execute_result"
    }
   ],
   "source": [
    "Base.metadata.create_all(engine)\n",
    "result = session.query(WeatherInfo).all()\n",
    "len(result)"
   ]
  },
  {
   "cell_type": "code",
   "execution_count": 13,
   "id": "db6e2002",
   "metadata": {},
   "outputs": [
    {
     "data": {
      "text/plain": [
       "64"
      ]
     },
     "execution_count": 13,
     "metadata": {},
     "output_type": "execute_result"
    }
   ],
   "source": [
    "weather_info_df.to_sql('weather',engine,if_exists='append',index=False) # without index"
   ]
  },
  {
   "cell_type": "code",
   "execution_count": 14,
   "id": "2c23a0f5",
   "metadata": {},
   "outputs": [
    {
     "data": {
      "text/plain": [
       "83393"
      ]
     },
     "execution_count": 14,
     "metadata": {},
     "output_type": "execute_result"
    }
   ],
   "source": [
    "result = session.query(WeatherInfo).all()\n",
    "len(result)"
   ]
  },
  {
   "cell_type": "code",
   "execution_count": 15,
   "id": "b7b28fdb",
   "metadata": {},
   "outputs": [],
   "source": [
    "session.close()"
   ]
  }
 ],
 "metadata": {
  "kernelspec": {
   "display_name": "dash",
   "language": "python",
   "name": "dash"
  },
  "language_info": {
   "codemirror_mode": {
    "name": "ipython",
    "version": 3
   },
   "file_extension": ".py",
   "mimetype": "text/x-python",
   "name": "python",
   "nbconvert_exporter": "python",
   "pygments_lexer": "ipython3",
   "version": "3.9.6"
  }
 },
 "nbformat": 4,
 "nbformat_minor": 5
}