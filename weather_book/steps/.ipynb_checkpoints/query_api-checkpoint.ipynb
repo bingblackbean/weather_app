{
 "cells": [
  {
   "cell_type": "markdown",
   "id": "035b4437",
   "metadata": {},
   "source": [
    "# Data Collection\n",
    "\n",
    "We are using free open api to get the data.A credit to: https://www.7timer.info/. It provide API to get the weather forecast infomation by given geolocation. \n",
    "For example, inputting shanghai will get unique endpoint: https://www.7timer.info/bin/api.pl?lon=121.474&lat=31.23&product=civil&output=json\n",
    "\n",
    "Weather forecast information for next few days is returned in this endpoint. \n",
    "By default,CIVIL product is used to present the result."
   ]
  },
  {
   "cell_type": "markdown",
   "id": "948665f7",
   "metadata": {},
   "source": [
    "## Send Request\n",
    "\n",
    "If we want to use Python to get response from url, we have to use some packages, like requests.\n",
    "\n",
    "```\n",
    "! pip install requests\n",
    "\n",
    "```\n",
    "https://docs.python-requests.org/en/latest/\n",
    "jump to quickstart of document, and start coding.\n",
    "https://docs.python-requests.org/en/latest/user/quickstart/"
   ]
  },
  {
   "cell_type": "code",
   "execution_count": 1,
   "id": "b30e6150",
   "metadata": {},
   "outputs": [],
   "source": [
    "import requests"
   ]
  },
  {
   "cell_type": "code",
   "execution_count": 2,
   "id": "f18922ec",
   "metadata": {},
   "outputs": [],
   "source": [
    "url = 'https://www.7timer.info/bin/api.pl?lon=121.474&lat=31.23&product=civil&output=json'"
   ]
  },
  {
   "cell_type": "code",
   "execution_count": 3,
   "id": "a1a14e4a",
   "metadata": {},
   "outputs": [
    {
     "name": "stdout",
     "output_type": "stream",
     "text": [
      "<Response [200]>\n",
      "UTF-8\n",
      "<class 'str'>\n"
     ]
    }
   ],
   "source": [
    "r = requests.get(url)\n",
    "print(r)\n",
    "print(r.encoding)\n",
    "print(type(r.text))"
   ]
  },
  {
   "cell_type": "markdown",
   "id": "a4549da2",
   "metadata": {},
   "source": [
    "It is time to parase the response contents to python object, like dict. Keep in mind, by default, requests return the response in json format. Python is integrated standard json package, so we just need to import it and loads the contents."
   ]
  },
  {
   "cell_type": "code",
   "execution_count": 4,
   "id": "00498f66",
   "metadata": {},
   "outputs": [],
   "source": [
    "import json"
   ]
  },
  {
   "cell_type": "code",
   "execution_count": 5,
   "id": "440c0065",
   "metadata": {},
   "outputs": [
    {
     "name": "stdout",
     "output_type": "stream",
     "text": [
      "<class 'dict'>\n"
     ]
    }
   ],
   "source": [
    "text_j= json.loads(r.text)\n",
    "print(type(text_j))"
   ]
  },
  {
   "cell_type": "markdown",
   "id": "15c8edc1",
   "metadata": {},
   "source": [
    "Let us have a glance at text_j dict."
   ]
  },
  {
   "cell_type": "code",
   "execution_count": 6,
   "id": "99c70168",
   "metadata": {},
   "outputs": [
    {
     "data": {
      "text/plain": [
       "dict_keys(['product', 'init', 'dataseries'])"
      ]
     },
     "execution_count": 6,
     "metadata": {},
     "output_type": "execute_result"
    }
   ],
   "source": [
    "text_j.keys()"
   ]
  },
  {
   "cell_type": "code",
   "execution_count": 7,
   "id": "67293118",
   "metadata": {},
   "outputs": [
    {
     "data": {
      "text/plain": [
       "'civil'"
      ]
     },
     "execution_count": 7,
     "metadata": {},
     "output_type": "execute_result"
    }
   ],
   "source": [
    "text_j['product']"
   ]
  },
  {
   "cell_type": "code",
   "execution_count": 8,
   "id": "1b48d1a3",
   "metadata": {},
   "outputs": [
    {
     "data": {
      "text/plain": [
       "'2022020200'"
      ]
     },
     "execution_count": 8,
     "metadata": {},
     "output_type": "execute_result"
    }
   ],
   "source": [
    "text_j['init']"
   ]
  },
  {
   "cell_type": "code",
   "execution_count": 9,
   "id": "2562341b",
   "metadata": {},
   "outputs": [
    {
     "data": {
      "text/plain": [
       "{'timepoint': 3,\n",
       " 'cloudcover': 9,\n",
       " 'lifted_index': 15,\n",
       " 'prec_type': 'rain',\n",
       " 'prec_amount': 1,\n",
       " 'temp2m': 4,\n",
       " 'rh2m': '74%',\n",
       " 'wind10m': {'direction': 'NE', 'speed': 3},\n",
       " 'weather': 'lightrainday'}"
      ]
     },
     "execution_count": 9,
     "metadata": {},
     "output_type": "execute_result"
    }
   ],
   "source": [
    "text_j['dataseries'][0]\n",
    "\n",
    "# https://github.com/Yeqzids/7timer-issues/wiki/Wiki"
   ]
  },
  {
   "cell_type": "markdown",
   "id": "eec5e5f0",
   "metadata": {},
   "source": [
    "## Parse Result\n",
    "We are noted that most useful information is kept in \"dataseries\" element. For this type of data (list of dict), we suggest to use DataFrame to parse it. \n"
   ]
  },
  {
   "cell_type": "code",
   "execution_count": 10,
   "id": "b4c4b8c3",
   "metadata": {},
   "outputs": [],
   "source": [
    "import pandas as pd"
   ]
  },
  {
   "cell_type": "code",
   "execution_count": 11,
   "id": "e33ef95e",
   "metadata": {},
   "outputs": [
    {
     "data": {
      "text/html": [
       "<div>\n",
       "<style scoped>\n",
       "    .dataframe tbody tr th:only-of-type {\n",
       "        vertical-align: middle;\n",
       "    }\n",
       "\n",
       "    .dataframe tbody tr th {\n",
       "        vertical-align: top;\n",
       "    }\n",
       "\n",
       "    .dataframe thead th {\n",
       "        text-align: right;\n",
       "    }\n",
       "</style>\n",
       "<table border=\"1\" class=\"dataframe\">\n",
       "  <thead>\n",
       "    <tr style=\"text-align: right;\">\n",
       "      <th></th>\n",
       "      <th>timepoint</th>\n",
       "      <th>cloudcover</th>\n",
       "      <th>lifted_index</th>\n",
       "      <th>prec_type</th>\n",
       "      <th>prec_amount</th>\n",
       "      <th>temp2m</th>\n",
       "      <th>rh2m</th>\n",
       "      <th>wind10m</th>\n",
       "      <th>weather</th>\n",
       "    </tr>\n",
       "  </thead>\n",
       "  <tbody>\n",
       "    <tr>\n",
       "      <th>0</th>\n",
       "      <td>3</td>\n",
       "      <td>9</td>\n",
       "      <td>15</td>\n",
       "      <td>rain</td>\n",
       "      <td>1</td>\n",
       "      <td>4</td>\n",
       "      <td>74%</td>\n",
       "      <td>{'direction': 'NE', 'speed': 3}</td>\n",
       "      <td>lightrainday</td>\n",
       "    </tr>\n",
       "    <tr>\n",
       "      <th>1</th>\n",
       "      <td>6</td>\n",
       "      <td>9</td>\n",
       "      <td>15</td>\n",
       "      <td>rain</td>\n",
       "      <td>2</td>\n",
       "      <td>4</td>\n",
       "      <td>75%</td>\n",
       "      <td>{'direction': 'NE', 'speed': 3}</td>\n",
       "      <td>lightrainday</td>\n",
       "    </tr>\n",
       "    <tr>\n",
       "      <th>2</th>\n",
       "      <td>9</td>\n",
       "      <td>9</td>\n",
       "      <td>15</td>\n",
       "      <td>rain</td>\n",
       "      <td>2</td>\n",
       "      <td>4</td>\n",
       "      <td>72%</td>\n",
       "      <td>{'direction': 'NE', 'speed': 3}</td>\n",
       "      <td>lightrainday</td>\n",
       "    </tr>\n",
       "    <tr>\n",
       "      <th>3</th>\n",
       "      <td>12</td>\n",
       "      <td>9</td>\n",
       "      <td>15</td>\n",
       "      <td>rain</td>\n",
       "      <td>2</td>\n",
       "      <td>3</td>\n",
       "      <td>85%</td>\n",
       "      <td>{'direction': 'NE', 'speed': 3}</td>\n",
       "      <td>lightrainnight</td>\n",
       "    </tr>\n",
       "    <tr>\n",
       "      <th>4</th>\n",
       "      <td>15</td>\n",
       "      <td>9</td>\n",
       "      <td>15</td>\n",
       "      <td>rain</td>\n",
       "      <td>2</td>\n",
       "      <td>3</td>\n",
       "      <td>92%</td>\n",
       "      <td>{'direction': 'NE', 'speed': 3}</td>\n",
       "      <td>lightrainnight</td>\n",
       "    </tr>\n",
       "  </tbody>\n",
       "</table>\n",
       "</div>"
      ],
      "text/plain": [
       "   timepoint  cloudcover  lifted_index prec_type  prec_amount  temp2m rh2m  \\\n",
       "0          3           9            15      rain            1       4  74%   \n",
       "1          6           9            15      rain            2       4  75%   \n",
       "2          9           9            15      rain            2       4  72%   \n",
       "3         12           9            15      rain            2       3  85%   \n",
       "4         15           9            15      rain            2       3  92%   \n",
       "\n",
       "                           wind10m         weather  \n",
       "0  {'direction': 'NE', 'speed': 3}    lightrainday  \n",
       "1  {'direction': 'NE', 'speed': 3}    lightrainday  \n",
       "2  {'direction': 'NE', 'speed': 3}    lightrainday  \n",
       "3  {'direction': 'NE', 'speed': 3}  lightrainnight  \n",
       "4  {'direction': 'NE', 'speed': 3}  lightrainnight  "
      ]
     },
     "execution_count": 11,
     "metadata": {},
     "output_type": "execute_result"
    }
   ],
   "source": [
    "weather_info = pd.DataFrame(text_j['dataseries'])\n",
    "weather_info.head(5)"
   ]
  },
  {
   "cell_type": "markdown",
   "id": "8bf5761f",
   "metadata": {},
   "source": [
    "## Transform Data\n",
    "\n",
    "### string to datetime\n",
    "\n",
    "\"init\" datetime is quite important, but it is returned as str. It is good practice to convert it to datatime. Since we decide to use DataFrame to parse raw text, consistently, we are using pd.to_datetime function rather than datetime package."
   ]
  },
  {
   "cell_type": "code",
   "execution_count": 12,
   "id": "b2965966",
   "metadata": {},
   "outputs": [
    {
     "data": {
      "text/plain": [
       "Timestamp('2022-02-02 00:00:00')"
      ]
     },
     "execution_count": 12,
     "metadata": {},
     "output_type": "execute_result"
    }
   ],
   "source": [
    "start_time = pd.to_datetime(text_j['init'],format='%Y%m%d%H')\n",
    "start_time"
   ]
  },
  {
   "cell_type": "markdown",
   "id": "1deeeb50",
   "metadata": {},
   "source": [
    "### int to timedelta\n",
    "timepoint column is recorded as \"next N\" hours from init time, so we can reverse them back to real timestamps.\n",
    "1. convert int to timedelta\n",
    "2. shift init time by using each timedelta"
   ]
  },
  {
   "cell_type": "code",
   "execution_count": 13,
   "id": "0bbf786d",
   "metadata": {},
   "outputs": [],
   "source": [
    "# convert timepoint to timestamp\n",
    "weather_info['timepoint'] = pd.to_timedelta(weather_info['timepoint'],unit='h')"
   ]
  },
  {
   "cell_type": "code",
   "execution_count": 14,
   "id": "c720e6a4",
   "metadata": {},
   "outputs": [],
   "source": [
    "weather_info['timestamp'] = start_time+ weather_info['timepoint']"
   ]
  },
  {
   "cell_type": "code",
   "execution_count": 15,
   "id": "d920a096",
   "metadata": {},
   "outputs": [
    {
     "data": {
      "text/html": [
       "<div>\n",
       "<style scoped>\n",
       "    .dataframe tbody tr th:only-of-type {\n",
       "        vertical-align: middle;\n",
       "    }\n",
       "\n",
       "    .dataframe tbody tr th {\n",
       "        vertical-align: top;\n",
       "    }\n",
       "\n",
       "    .dataframe thead th {\n",
       "        text-align: right;\n",
       "    }\n",
       "</style>\n",
       "<table border=\"1\" class=\"dataframe\">\n",
       "  <thead>\n",
       "    <tr style=\"text-align: right;\">\n",
       "      <th></th>\n",
       "      <th>timepoint</th>\n",
       "      <th>cloudcover</th>\n",
       "      <th>lifted_index</th>\n",
       "      <th>prec_type</th>\n",
       "      <th>prec_amount</th>\n",
       "      <th>temp2m</th>\n",
       "      <th>rh2m</th>\n",
       "      <th>wind10m</th>\n",
       "      <th>weather</th>\n",
       "      <th>timestamp</th>\n",
       "    </tr>\n",
       "  </thead>\n",
       "  <tbody>\n",
       "    <tr>\n",
       "      <th>0</th>\n",
       "      <td>0 days 03:00:00</td>\n",
       "      <td>9</td>\n",
       "      <td>15</td>\n",
       "      <td>rain</td>\n",
       "      <td>1</td>\n",
       "      <td>4</td>\n",
       "      <td>74%</td>\n",
       "      <td>{'direction': 'NE', 'speed': 3}</td>\n",
       "      <td>lightrainday</td>\n",
       "      <td>2022-02-02 03:00:00</td>\n",
       "    </tr>\n",
       "    <tr>\n",
       "      <th>1</th>\n",
       "      <td>0 days 06:00:00</td>\n",
       "      <td>9</td>\n",
       "      <td>15</td>\n",
       "      <td>rain</td>\n",
       "      <td>2</td>\n",
       "      <td>4</td>\n",
       "      <td>75%</td>\n",
       "      <td>{'direction': 'NE', 'speed': 3}</td>\n",
       "      <td>lightrainday</td>\n",
       "      <td>2022-02-02 06:00:00</td>\n",
       "    </tr>\n",
       "    <tr>\n",
       "      <th>2</th>\n",
       "      <td>0 days 09:00:00</td>\n",
       "      <td>9</td>\n",
       "      <td>15</td>\n",
       "      <td>rain</td>\n",
       "      <td>2</td>\n",
       "      <td>4</td>\n",
       "      <td>72%</td>\n",
       "      <td>{'direction': 'NE', 'speed': 3}</td>\n",
       "      <td>lightrainday</td>\n",
       "      <td>2022-02-02 09:00:00</td>\n",
       "    </tr>\n",
       "    <tr>\n",
       "      <th>3</th>\n",
       "      <td>0 days 12:00:00</td>\n",
       "      <td>9</td>\n",
       "      <td>15</td>\n",
       "      <td>rain</td>\n",
       "      <td>2</td>\n",
       "      <td>3</td>\n",
       "      <td>85%</td>\n",
       "      <td>{'direction': 'NE', 'speed': 3}</td>\n",
       "      <td>lightrainnight</td>\n",
       "      <td>2022-02-02 12:00:00</td>\n",
       "    </tr>\n",
       "    <tr>\n",
       "      <th>4</th>\n",
       "      <td>0 days 15:00:00</td>\n",
       "      <td>9</td>\n",
       "      <td>15</td>\n",
       "      <td>rain</td>\n",
       "      <td>2</td>\n",
       "      <td>3</td>\n",
       "      <td>92%</td>\n",
       "      <td>{'direction': 'NE', 'speed': 3}</td>\n",
       "      <td>lightrainnight</td>\n",
       "      <td>2022-02-02 15:00:00</td>\n",
       "    </tr>\n",
       "  </tbody>\n",
       "</table>\n",
       "</div>"
      ],
      "text/plain": [
       "        timepoint  cloudcover  lifted_index prec_type  prec_amount  temp2m  \\\n",
       "0 0 days 03:00:00           9            15      rain            1       4   \n",
       "1 0 days 06:00:00           9            15      rain            2       4   \n",
       "2 0 days 09:00:00           9            15      rain            2       4   \n",
       "3 0 days 12:00:00           9            15      rain            2       3   \n",
       "4 0 days 15:00:00           9            15      rain            2       3   \n",
       "\n",
       "  rh2m                          wind10m         weather           timestamp  \n",
       "0  74%  {'direction': 'NE', 'speed': 3}    lightrainday 2022-02-02 03:00:00  \n",
       "1  75%  {'direction': 'NE', 'speed': 3}    lightrainday 2022-02-02 06:00:00  \n",
       "2  72%  {'direction': 'NE', 'speed': 3}    lightrainday 2022-02-02 09:00:00  \n",
       "3  85%  {'direction': 'NE', 'speed': 3}  lightrainnight 2022-02-02 12:00:00  \n",
       "4  92%  {'direction': 'NE', 'speed': 3}  lightrainnight 2022-02-02 15:00:00  "
      ]
     },
     "execution_count": 15,
     "metadata": {},
     "output_type": "execute_result"
    }
   ],
   "source": [
    "weather_info.head(5)"
   ]
  },
  {
   "cell_type": "markdown",
   "id": "9f86ab40",
   "metadata": {},
   "source": [
    "\n",
    "## From City Name to Geolocation\n",
    "what if we want to get weather info by inputing the city name? We have to get the geolocation (longitude and latitude) from city name. Luckily, there are multiple wheels for this and geopy is one of them.\n",
    "\n",
    "```\n",
    "pip install geopy\n",
    "```\n",
    "***More info about geopy: ***\n",
    "https://geopy.readthedocs.io/en/stable/"
   ]
  },
  {
   "cell_type": "code",
   "execution_count": 16,
   "id": "f85bab9e",
   "metadata": {},
   "outputs": [],
   "source": [
    "from geopy.geocoders import Nominatim"
   ]
  },
  {
   "cell_type": "code",
   "execution_count": 17,
   "id": "0486ee3f",
   "metadata": {},
   "outputs": [
    {
     "name": "stdout",
     "output_type": "stream",
     "text": [
      "上海市, 黄浦区, 上海市, 200001, 中国\n",
      "(31.2322758, 121.4692071)\n"
     ]
    }
   ],
   "source": [
    "geolocator = Nominatim(user_agent='baidu')\n",
    "location = geolocator.geocode(\"shanghai\")\n",
    "print(location.address)\n",
    "print((location.latitude, location.longitude))"
   ]
  },
  {
   "cell_type": "markdown",
   "id": "cdea0073",
   "metadata": {},
   "source": [
    "So far, we know how to request the weather info by inputing the city name step by step. The codes shall be sorted somehow before we move to next functionality design."
   ]
  }
 ],
 "metadata": {
  "kernelspec": {
   "display_name": "dash",
   "language": "python",
   "name": "dash"
  },
  "language_info": {
   "codemirror_mode": {
    "name": "ipython",
    "version": 3
   },
   "file_extension": ".py",
   "mimetype": "text/x-python",
   "name": "python",
   "nbconvert_exporter": "python",
   "pygments_lexer": "ipython3",
   "version": "3.9.6"
  }
 },
 "nbformat": 4,
 "nbformat_minor": 5
}
